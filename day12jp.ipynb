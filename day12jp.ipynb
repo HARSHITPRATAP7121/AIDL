{
 "cells": [
  {
   "cell_type": "code",
   "execution_count": null,
   "metadata": {},
   "outputs": [],
   "source": [
    "import cv2 \n",
    "import skimage as ski\n",
    "vid =cv2.VideoCapture(0)\n",
    "\n",
    "while True:\n",
    "    ack,img = vid.read()\n",
    "    if ack:\n",
    "\n",
    "        cv2.imshow('Preview',img_copy)\n",
    "        key=cv2.waitKey(1)\n",
    "        if key == ord('x'):\n",
    "            break \n",
    "cv2.destroyAllWindows()\n",
    "vid.release()"
   ]
  },
  {
   "cell_type": "code",
   "execution_count": 1,
   "metadata": {},
   "outputs": [
    {
     "ename": "KeyboardInterrupt",
     "evalue": "",
     "output_type": "error",
     "traceback": [
      "\u001b[1;31m---------------------------------------------------------------------------\u001b[0m",
      "\u001b[1;31mKeyboardInterrupt\u001b[0m                         Traceback (most recent call last)",
      "\u001b[1;32mc:\\Users\\prata\\Desktop\\AIDL\\day12jp.ipynb Cell 2\u001b[0m in \u001b[0;36m<cell line: 6>\u001b[1;34m()\u001b[0m\n\u001b[0;32m     <a href='vscode-notebook-cell:/c%3A/Users/prata/Desktop/AIDL/day12jp.ipynb#W1sZmlsZQ%3D%3D?line=13'>14</a>\u001b[0m red_bw\u001b[39m=\u001b[39mcv2\u001b[39m.\u001b[39mmorphologyEx(\n\u001b[0;32m     <a href='vscode-notebook-cell:/c%3A/Users/prata/Desktop/AIDL/day12jp.ipynb#W1sZmlsZQ%3D%3D?line=14'>15</a>\u001b[0m     red_bw,cv2\u001b[39m.\u001b[39mMORPH_CLOSE,strel,iterations\u001b[39m=\u001b[39m\u001b[39m1\u001b[39m\n\u001b[0;32m     <a href='vscode-notebook-cell:/c%3A/Users/prata/Desktop/AIDL/day12jp.ipynb#W1sZmlsZQ%3D%3D?line=15'>16</a>\u001b[0m )\n\u001b[0;32m     <a href='vscode-notebook-cell:/c%3A/Users/prata/Desktop/AIDL/day12jp.ipynb#W1sZmlsZQ%3D%3D?line=17'>18</a>\u001b[0m red_bw \u001b[39m=\u001b[39m ski\u001b[39m.\u001b[39mmorphology\u001b[39m.\u001b[39mremove_small_objects(\n\u001b[0;32m     <a href='vscode-notebook-cell:/c%3A/Users/prata/Desktop/AIDL/day12jp.ipynb#W1sZmlsZQ%3D%3D?line=18'>19</a>\u001b[0m     red_bw\u001b[39m.\u001b[39mastype(\u001b[39mbool\u001b[39m),\u001b[39m3000\u001b[39m\n\u001b[0;32m     <a href='vscode-notebook-cell:/c%3A/Users/prata/Desktop/AIDL/day12jp.ipynb#W1sZmlsZQ%3D%3D?line=19'>20</a>\u001b[0m )\u001b[39m.\u001b[39mastype(\u001b[39m'\u001b[39m\u001b[39muint8\u001b[39m\u001b[39m'\u001b[39m)\u001b[39m*\u001b[39m\u001b[39m255\u001b[39m\n\u001b[1;32m---> <a href='vscode-notebook-cell:/c%3A/Users/prata/Desktop/AIDL/day12jp.ipynb#W1sZmlsZQ%3D%3D?line=21'>22</a>\u001b[0m red_bw \u001b[39m=\u001b[39m ski\u001b[39m.\u001b[39;49mmorphology\u001b[39m.\u001b[39;49mremove_small_holes(\n\u001b[0;32m     <a href='vscode-notebook-cell:/c%3A/Users/prata/Desktop/AIDL/day12jp.ipynb#W1sZmlsZQ%3D%3D?line=22'>23</a>\u001b[0m     red_bw\u001b[39m.\u001b[39;49mastype(\u001b[39mbool\u001b[39;49m),\u001b[39m3000\u001b[39;49m\n\u001b[0;32m     <a href='vscode-notebook-cell:/c%3A/Users/prata/Desktop/AIDL/day12jp.ipynb#W1sZmlsZQ%3D%3D?line=23'>24</a>\u001b[0m )\u001b[39m.\u001b[39mastype(\u001b[39m'\u001b[39m\u001b[39muint8\u001b[39m\u001b[39m'\u001b[39m)\u001b[39m*\u001b[39m\u001b[39m255\u001b[39m\n\u001b[0;32m     <a href='vscode-notebook-cell:/c%3A/Users/prata/Desktop/AIDL/day12jp.ipynb#W1sZmlsZQ%3D%3D?line=25'>26</a>\u001b[0m rps \u001b[39m=\u001b[39m ski\u001b[39m.\u001b[39mmeasure\u001b[39m.\u001b[39mregionprops(\n\u001b[0;32m     <a href='vscode-notebook-cell:/c%3A/Users/prata/Desktop/AIDL/day12jp.ipynb#W1sZmlsZQ%3D%3D?line=26'>27</a>\u001b[0m     ski\u001b[39m.\u001b[39mmeasure\u001b[39m.\u001b[39mlabel(red_bw\u001b[39m.\u001b[39mastype(\u001b[39mbool\u001b[39m))\n\u001b[0;32m     <a href='vscode-notebook-cell:/c%3A/Users/prata/Desktop/AIDL/day12jp.ipynb#W1sZmlsZQ%3D%3D?line=27'>28</a>\u001b[0m )\n\u001b[0;32m     <a href='vscode-notebook-cell:/c%3A/Users/prata/Desktop/AIDL/day12jp.ipynb#W1sZmlsZQ%3D%3D?line=29'>30</a>\u001b[0m count\u001b[39m=\u001b[39m\u001b[39mlen\u001b[39m(rps)\n",
      "File \u001b[1;32mc:\\Users\\prata\\anaconda3\\anakonda\\lib\\site-packages\\skimage\\_shared\\utils.py:157\u001b[0m, in \u001b[0;36mremove_arg.__call__.<locals>.fixed_func\u001b[1;34m(*args, **kwargs)\u001b[0m\n\u001b[0;32m    153\u001b[0m \u001b[39mif\u001b[39;00m \u001b[39mlen\u001b[39m(args) \u001b[39m>\u001b[39m arg_idx \u001b[39mor\u001b[39;00m \u001b[39mself\u001b[39m\u001b[39m.\u001b[39marg_name \u001b[39min\u001b[39;00m kwargs\u001b[39m.\u001b[39mkeys():\n\u001b[0;32m    154\u001b[0m     \u001b[39m# warn that arg_name is deprecated\u001b[39;00m\n\u001b[0;32m    155\u001b[0m     warnings\u001b[39m.\u001b[39mwarn(warning_msg, \u001b[39mFutureWarning\u001b[39;00m,\n\u001b[0;32m    156\u001b[0m                   stacklevel\u001b[39m=\u001b[39mstacklevel)\n\u001b[1;32m--> 157\u001b[0m \u001b[39mreturn\u001b[39;00m func(\u001b[39m*\u001b[39margs, \u001b[39m*\u001b[39m\u001b[39m*\u001b[39mkwargs)\n",
      "File \u001b[1;32mc:\\Users\\prata\\anaconda3\\anakonda\\lib\\site-packages\\skimage\\morphology\\misc.py:242\u001b[0m, in \u001b[0;36mremove_small_holes\u001b[1;34m(ar, area_threshold, connectivity, in_place, out)\u001b[0m\n\u001b[0;32m    239\u001b[0m np\u001b[39m.\u001b[39mlogical_not(ar, out\u001b[39m=\u001b[39mout)\n\u001b[0;32m    241\u001b[0m \u001b[39m# removing small objects from the inverse of ar\u001b[39;00m\n\u001b[1;32m--> 242\u001b[0m out \u001b[39m=\u001b[39m remove_small_objects(out, area_threshold, connectivity, out\u001b[39m=\u001b[39;49mout)\n\u001b[0;32m    244\u001b[0m np\u001b[39m.\u001b[39mlogical_not(out, out\u001b[39m=\u001b[39mout)\n\u001b[0;32m    246\u001b[0m \u001b[39mreturn\u001b[39;00m out\n",
      "File \u001b[1;32mc:\\Users\\prata\\anaconda3\\anakonda\\lib\\site-packages\\skimage\\_shared\\utils.py:157\u001b[0m, in \u001b[0;36mremove_arg.__call__.<locals>.fixed_func\u001b[1;34m(*args, **kwargs)\u001b[0m\n\u001b[0;32m    153\u001b[0m \u001b[39mif\u001b[39;00m \u001b[39mlen\u001b[39m(args) \u001b[39m>\u001b[39m arg_idx \u001b[39mor\u001b[39;00m \u001b[39mself\u001b[39m\u001b[39m.\u001b[39marg_name \u001b[39min\u001b[39;00m kwargs\u001b[39m.\u001b[39mkeys():\n\u001b[0;32m    154\u001b[0m     \u001b[39m# warn that arg_name is deprecated\u001b[39;00m\n\u001b[0;32m    155\u001b[0m     warnings\u001b[39m.\u001b[39mwarn(warning_msg, \u001b[39mFutureWarning\u001b[39;00m,\n\u001b[0;32m    156\u001b[0m                   stacklevel\u001b[39m=\u001b[39mstacklevel)\n\u001b[1;32m--> 157\u001b[0m \u001b[39mreturn\u001b[39;00m func(\u001b[39m*\u001b[39margs, \u001b[39m*\u001b[39m\u001b[39m*\u001b[39mkwargs)\n",
      "File \u001b[1;32mc:\\Users\\prata\\anaconda3\\anakonda\\lib\\site-packages\\skimage\\morphology\\misc.py:133\u001b[0m, in \u001b[0;36mremove_small_objects\u001b[1;34m(ar, min_size, connectivity, in_place, out)\u001b[0m\n\u001b[0;32m    131\u001b[0m     footprint \u001b[39m=\u001b[39m ndi\u001b[39m.\u001b[39mgenerate_binary_structure(ar\u001b[39m.\u001b[39mndim, connectivity)\n\u001b[0;32m    132\u001b[0m     ccs \u001b[39m=\u001b[39m np\u001b[39m.\u001b[39mzeros_like(ar, dtype\u001b[39m=\u001b[39mnp\u001b[39m.\u001b[39mint32)\n\u001b[1;32m--> 133\u001b[0m     ndi\u001b[39m.\u001b[39;49mlabel(ar, footprint, output\u001b[39m=\u001b[39;49mccs)\n\u001b[0;32m    134\u001b[0m \u001b[39melse\u001b[39;00m:\n\u001b[0;32m    135\u001b[0m     ccs \u001b[39m=\u001b[39m out\n",
      "File \u001b[1;32mc:\\Users\\prata\\anaconda3\\anakonda\\lib\\site-packages\\scipy\\ndimage\\measurements.py:219\u001b[0m, in \u001b[0;36mlabel\u001b[1;34m(input, structure, output)\u001b[0m\n\u001b[0;32m    216\u001b[0m         \u001b[39mreturn\u001b[39;00m output, maxlabel\n\u001b[0;32m    218\u001b[0m \u001b[39mtry\u001b[39;00m:\n\u001b[1;32m--> 219\u001b[0m     max_label \u001b[39m=\u001b[39m _ni_label\u001b[39m.\u001b[39;49m_label(\u001b[39minput\u001b[39;49m, structure, output)\n\u001b[0;32m    220\u001b[0m \u001b[39mexcept\u001b[39;00m _ni_label\u001b[39m.\u001b[39mNeedMoreBits \u001b[39mas\u001b[39;00m e:\n\u001b[0;32m    221\u001b[0m     \u001b[39m# Make another attempt with enough bits, then try to cast to the\u001b[39;00m\n\u001b[0;32m    222\u001b[0m     \u001b[39m# new type.\u001b[39;00m\n\u001b[0;32m    223\u001b[0m     tmp_output \u001b[39m=\u001b[39m np\u001b[39m.\u001b[39mempty(\u001b[39minput\u001b[39m\u001b[39m.\u001b[39mshape, np\u001b[39m.\u001b[39mintp \u001b[39mif\u001b[39;00m need_64bits \u001b[39melse\u001b[39;00m np\u001b[39m.\u001b[39mint32)\n",
      "\u001b[1;31mKeyboardInterrupt\u001b[0m: "
     ]
    },
    {
     "ename": "",
     "evalue": "",
     "output_type": "error",
     "traceback": [
      "\u001b[1;31mThe Kernel crashed while executing code in the the current cell or a previous cell. Please review the code in the cell(s) to identify a possible cause of the failure. Click <a href='https://aka.ms/vscodeJupyterKernelCrash'>here</a> for more info. View Jupyter <a href='command:jupyter.viewOutput'>log</a> for further details."
     ]
    }
   ],
   "source": [
    "import cv2 \n",
    "import skimage as ski\n",
    "vid =cv2.VideoCapture(0)\n",
    "\n",
    "while True:\n",
    "    ack,img = vid.read()\n",
    "    if ack:\n",
    "        th,red_bw = cv2.threshold(\n",
    "            cv2.subtract(img[:,:,-3],cv2.cvtColor(img,cv2.COLOR_BGR2GRAY))\n",
    "            ,40,255,cv2.THRESH_BINARY)\n",
    "        \n",
    "        strel = cv2.getStructuringElement(cv2.MORPH_RECT,(20,20))\n",
    "\n",
    "        red_bw=cv2.morphologyEx(\n",
    "            red_bw,cv2.MORPH_CLOSE,strel,iterations=1\n",
    "        )\n",
    "\n",
    "        red_bw = ski.morphology.remove_small_objects(\n",
    "            red_bw.astype(bool),3000\n",
    "        ).astype('uint8')*255\n",
    "        \n",
    "        red_bw = ski.morphology.remove_small_holes(\n",
    "            red_bw.astype(bool),3000\n",
    "        ).astype('uint8')*255\n",
    "\n",
    "        rps = ski.measure.regionprops(\n",
    "            ski.measure.label(red_bw.astype(bool))\n",
    "        )\n",
    "        \n",
    "        count=len(rps)\n",
    "        img_copy=img.copy()\n",
    "        cv2.putText(img_copy,str(count),(100,150),cv2.FONT_HERSHEY_PLAIN,10,(0,0,255),thickness=10)\n",
    "        for rp in rps:\n",
    "            y1,x1,y2,x2=rp.bbox\n",
    "            cv2.rectangle(img_copy,(x1,y1),(x2,y2),(0,0,255),thickness=5)\n",
    "\n",
    "        cv2.imshow('Preview',img_copy)\n",
    "        key=cv2.waitKey(1)\n",
    "        if key == ord('x'):\n",
    "            break \n",
    "cv2.destroyAllWindows()\n",
    "vid.release()"
   ]
  },
  {
   "cell_type": "code",
   "execution_count": null,
   "metadata": {},
   "outputs": [],
   "source": [
    "import cv2\n",
    "fd = cv2.CascadeClassifier(\n",
    "    cv2.data.haarcascades + 'haarcascade_frontalface_default.xml'\n",
    ")\n",
    "vid = cv2.VideoCapture(0)\n",
    "counter = 0\n",
    "while True:\n",
    "    ack, img = vid.read()\n",
    "    if ack:\n",
    "        faces = fd.detectMultiScale(img,1.2,10)\n",
    "        if len(faces) == 1:\n",
    "            counter += 1\n",
    "            for x,y,w,h in faces:\n",
    "                cv2.rectangle(img,(x,y),(x+w,y+h),(255,255,255),10)\n",
    "            face_img = img[y:y+h, x:x+w, :].copy()\n",
    "            cv2.imwrite(\n",
    "                r'faces/peeyush/face_{0}.png'.format(counter), \n",
    "                face_img\n",
    "            )\n",
    "\n",
    "        cv2.imshow('Preview', img)  # depends on requirement\n",
    "        key = cv2.waitKey(1)\n",
    "        if key == ord('x'):\n",
    "            break\n",
    "cv2.destroyAllWindows(); cv2.waitKey(1)\n",
    "vid.release()"
   ]
  }
 ],
 "metadata": {
  "kernelspec": {
   "display_name": "base",
   "language": "python",
   "name": "python3"
  },
  "language_info": {
   "codemirror_mode": {
    "name": "ipython",
    "version": 3
   },
   "file_extension": ".py",
   "mimetype": "text/x-python",
   "name": "python",
   "nbconvert_exporter": "python",
   "pygments_lexer": "ipython3",
   "version": "3.9.12"
  },
  "orig_nbformat": 4
 },
 "nbformat": 4,
 "nbformat_minor": 2
}
