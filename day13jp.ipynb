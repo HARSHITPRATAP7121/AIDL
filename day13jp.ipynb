{
 "cells": [
  {
   "cell_type": "code",
   "execution_count": 6,
   "metadata": {},
   "outputs": [],
   "source": [
    "# face registration\n",
    "import cv2 \n",
    "import pandas as pd   # series ,dataframes pd is used them\n",
    "import skimage as ski\n",
    "import face_recognition as fr\n",
    "fname='features.csv'\n",
    "try:\n",
    "    df =pd.read_csv(fname)\n",
    "except:\n",
    "    df=pd.DataFrame({'name':[],'enc':[]})\n",
    "\n",
    "fd = cv2.CascadeClassifier(cv2.data.haarcascades + 'haarcascade_frontalface_default.xml')\n",
    "\n",
    "counter=0\n",
    "vid =cv2.VideoCapture(0)\n",
    "names=[]\n",
    "feats=[]\n",
    "name=input(\"enter your name :\")\n",
    "\n",
    "while True:\n",
    "    ack,img = vid.read()\n",
    "    if ack:\n",
    "        faces=fd.detectMultiScale(img,1.2,10,minSize=(150,150))\n",
    "        if len(faces) == 1:\n",
    "            x,y,w,h=faces[0]\n",
    "            face_img=img[y:y+h,x:x+w,:].copy()\n",
    "            face_enc=fr.face_encodings(face_img) # extract the feature of image\n",
    "            if len(face_enc) == 1:\n",
    "                counter += 1\n",
    "                names += [name]\n",
    "                feats += [face_enc[0].tolist()]\n",
    "                #f=pd.DataFrame({'name':[name],'enc':face_enc})\n",
    "                #df=pd.concat([df,f],axis=0,ignore_index=True)\n",
    "            if counter == 20:\n",
    "                f=pd.DataFrame({'name':names,'enc':feats})\n",
    "                df=pd.concat([df,f],axis=0,ignore_index=True)\n",
    "                df.to_csv(fname)\n",
    "                break\n",
    "\n",
    "        cv2.imshow('Preview',img)\n",
    "        key=cv2.waitKey(1)\n",
    "        if key == ord('x'):\n",
    "            break \n",
    "cv2.destroyAllWindows()\n",
    "vid.release()"
   ]
  },
  {
   "cell_type": "code",
   "execution_count": null,
   "metadata": {},
   "outputs": [],
   "source": [
    "pd.concat()"
   ]
  }
 ],
 "metadata": {
  "kernelspec": {
   "display_name": "base",
   "language": "python",
   "name": "python3"
  },
  "language_info": {
   "codemirror_mode": {
    "name": "ipython",
    "version": 3
   },
   "file_extension": ".py",
   "mimetype": "text/x-python",
   "name": "python",
   "nbconvert_exporter": "python",
   "pygments_lexer": "ipython3",
   "version": "3.9.12"
  },
  "orig_nbformat": 4
 },
 "nbformat": 4,
 "nbformat_minor": 2
}
