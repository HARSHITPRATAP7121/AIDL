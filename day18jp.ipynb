{
 "cells": [
  {
   "cell_type": "code",
   "execution_count": 1,
   "metadata": {},
   "outputs": [],
   "source": []
  },
  {
   "cell_type": "code",
   "execution_count": 4,
   "metadata": {},
   "outputs": [],
   "source": [
    "# human  detection\n",
    "import cv2 \n",
    "from time import sleep\n",
    "hog = cv2.HOGDescriptor()\n",
    "hog.setSVMDetector(cv2.HOGDescriptor_getDefaultPeopleDetector())\n",
    "vid=cv2.VideoCapture(index=0)\n",
    "while True:\n",
    "    ack,img=vid.read()\n",
    "    if ack:\n",
    "        people,weights=hog.detectMultiScale(\n",
    "            cv2.cvtColor(img,cv2.COLOR_BGR2GRAY),winStride=(15,15),\n",
    "        )\n",
    "        for x,y,w,h in people:\n",
    "            cv2.rectangle(\n",
    "                img,pt1=(x,y),pt2=(x+w,y+h),color=(0,0,255),thickness=5,\n",
    "            )\n",
    "        sleep(0.1)\n",
    "        cv2.imshow('Preview',img)\n",
    "        if cv2.waitKey(delay=1)== ord('q'):\n",
    "                break \n",
    "cv2.destroyAllWindows()\n",
    "vid.release()"
   ]
  },
  {
   "cell_type": "markdown",
   "metadata": {},
   "source": [
    "RULE BASED CHATBOT"
   ]
  },
  {
   "cell_type": "code",
   "execution_count": 3,
   "metadata": {},
   "outputs": [],
   "source": [
    "import speech_recognition as sr\n",
    "import nltk\n",
    "import pyttsx3"
   ]
  },
  {
   "cell_type": "code",
   "execution_count": 4,
   "metadata": {},
   "outputs": [],
   "source": [
    "tts=pyttsx3.init()\n",
    "tts.setProperty('rate',170)\n",
    "tts.say(\"hello , harshit pratap i am  speaking for you from your computer \")\n",
    "tts.runAndWait()"
   ]
  },
  {
   "cell_type": "code",
   "execution_count": null,
   "metadata": {},
   "outputs": [],
   "source": [
    "\n",
    "import warnings; warnings.filterwarnings('ignore')\n",
    "import speech_recognition as sr \n",
    "import webbrowser as web\n",
    "rec = sr.Recognizer()\n",
    "flag=False\n",
    "while True:\n",
    "    with sr.Microphone() as mic:\n",
    "        print('Speak:' )\n",
    "        audio=rec.listen(mic,phrase_time_limit=3,timeout=5)\n",
    "        try:\n",
    "            text=rec.recognize_google(audio).lower()\n",
    "    \n",
    "            if flag==True:\n",
    "              if 'search' in text:\n",
    "                item=text.split('search')[-1].strip()\n",
    "                flipkart_url=\"https://flipkart.com/search?q=\"\n",
    "                amazon_url=\"https://amazon.in/s?k=\"\n",
    "                web.open_new(flipkart_url+item)\n",
    "                web.open_new(amazon_url+item)\n",
    "              flag=False\n",
    "\n",
    "            if 'ok google' in text:\n",
    "              flag=True\n",
    "            elif 'stop' in text:\n",
    "              break\n",
    "        \n",
    "            print('You Said: ',text)\n",
    "            tts.say(text)\n",
    "            tts.runAndWait()\n",
    "        except Exception as err:\n",
    "          print(err)"
   ]
  },
  {
   "cell_type": "code",
   "execution_count": 1,
   "metadata": {},
   "outputs": [],
   "source": [
    "from nltk.chat.util import Chat"
   ]
  },
  {
   "cell_type": "code",
   "execution_count": 6,
   "metadata": {},
   "outputs": [],
   "source": [
    "q1=r'what is your name'\n",
    "a1=['my name is harshit pratap','I am a harshit']\n",
    "q2=r'kya aaj kuch accha hoga'\n",
    "a2=['kya pata']\n",
    "qa_pair=[\n",
    "    [q1,a1],[q2,a2]\n",
    "]\n",
    "cb=Chat(qa_pair)"
   ]
  },
  {
   "cell_type": "code",
   "execution_count": 8,
   "metadata": {},
   "outputs": [
    {
     "name": "stdout",
     "output_type": "stream",
     "text": [
      "I am a harshit\n"
     ]
    }
   ],
   "source": [
    "ques=input('enter ques:')\n",
    "resp=cb.respond(ques)\n",
    "print(resp)"
   ]
  },
  {
   "cell_type": "code",
   "execution_count": 9,
   "metadata": {},
   "outputs": [
    {
     "ename": "SyntaxError",
     "evalue": "invalid syntax (2197476462.py, line 2)",
     "output_type": "error",
     "traceback": [
      "\u001b[1;36m  Input \u001b[1;32mIn [9]\u001b[1;36m\u001b[0m\n\u001b[1;33m    () capture and group\u001b[0m\n\u001b[1;37m       ^\u001b[0m\n\u001b[1;31mSyntaxError\u001b[0m\u001b[1;31m:\u001b[0m invalid syntax\n"
     ]
    }
   ],
   "source": [
    "# Regular Expressions\n",
    "#######################\n",
    "# ()      Capture & Group\n",
    "# .       Any character (except new line)\n",
    "# *       zero or more occurrences\n",
    "# |       or\n",
    "# []      set of characters\n",
    "# a-z\n",
    "# A-Z\n",
    "# 0-9\n",
    "# ^       starting with\n",
    "# $       ends with\n",
    "# ?       zero or one occurrence\n",
    "# +       one or more occurrence\n",
    "# {}      exact number of occurrence\n",
    "# \\w      only word characters\n",
    "# \\W      not word characters\n"
   ]
  },
  {
   "cell_type": "code",
   "execution_count": 10,
   "metadata": {},
   "outputs": [],
   "source": [
    "q1=r'(.*)your name (.*)company(.*)'\n",
    "a1=['my name is harshit pratap','I am a harshit']\n",
    "q2=r'kya aaj kuch accha hoga'\n",
    "a2=['kya pata']\n",
    "qa_pair=[\n",
    "    [q1,a1],[q2,a2]\n",
    "]\n",
    "cb=Chat(qa_pair)"
   ]
  },
  {
   "cell_type": "code",
   "execution_count": 12,
   "metadata": {},
   "outputs": [
    {
     "name": "stdout",
     "output_type": "stream",
     "text": [
      "my name is harshit pratap\n"
     ]
    }
   ],
   "source": [
    "ques=input('enter ques:')\n",
    "resp=cb.respond(ques)\n",
    "print(resp)"
   ]
  },
  {
   "cell_type": "code",
   "execution_count": null,
   "metadata": {},
   "outputs": [],
   "source": [
    "from nltk.chat.util import Chat\n",
    "import speech_recognition as sr\n",
    "import pyttsx3\n",
    "\n",
    "q1 = r'(.*)your name (.*)company(.*)'\n",
    "a1 = ['my name is chatchat','I am chatchat']\n",
    "q2 = r'kya aaj kuch achha hoga'\n",
    "a2 = ['haan','mujhe kya pata','mein kyo batau']\n",
    "qa_pair = [\n",
    "    [q1,a1],\n",
    "    [q2,a2],\n",
    "]\n",
    "cb = Chat(qa_pair)\n",
    "tts = pyttsx3.init()\n",
    "rec = sr.Recognizer()\n",
    "while True:\n",
    "    with sr.Microphone() as mic:\n",
    "        print('Speak:')\n",
    "        audio = rec.listen(mic,phrase_time_limit=3,timeout=5)\n",
    "        try:\n",
    "            text = rec.recognize_google(audio).lower()\n",
    "            print(text)\n",
    "            if flag == True:\n",
    "                if 'search' in text:\n",
    "                    item = text.split('search')[-1].strip()\n",
    "                    flipkart_url = 'https://flipkart.com/search?q='\n",
    "                    amazon_url = 'https://amazon.in/s?k='\n",
    "                    web.open_new(flipkart_url + item)\n",
    "                    web.open_new_tab(amazon_url + item)\n",
    "                else:\n",
    "                    resp = cb.respond(text)\n",
    "                    if resp == None:\n",
    "                        tts.say('Sorry, I dont know')\n",
    "                    else:\n",
    "                        tts.say(resp)\n",
    "                    tts.runAndWait()\n",
    "                flag = False\n",
    "            if 'hey google' in text:\n",
    "                flag = True\n",
    "            elif 'mar ja' in text: \n",
    "                break\n",
    "        except Exception as err:\n",
    "            print(err)"
   ]
  }
 ],
 "metadata": {
  "kernelspec": {
   "display_name": "base",
   "language": "python",
   "name": "python3"
  },
  "language_info": {
   "codemirror_mode": {
    "name": "ipython",
    "version": 3
   },
   "file_extension": ".py",
   "mimetype": "text/x-python",
   "name": "python",
   "nbconvert_exporter": "python",
   "pygments_lexer": "ipython3",
   "version": "3.9.12"
  },
  "orig_nbformat": 4
 },
 "nbformat": 4,
 "nbformat_minor": 2
}
