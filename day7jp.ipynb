{
 "cells": [
  {
   "cell_type": "code",
   "execution_count": 1,
   "metadata": {},
   "outputs": [],
   "source": [
    "\n",
    "# numpy datatypes\n",
    "# numpy  np.array\n",
    "import numpy as np"
   ]
  },
  {
   "cell_type": "code",
   "execution_count": 2,
   "metadata": {},
   "outputs": [],
   "source": [
    "def show_array(arr):\n",
    "    print('Array:', arr, sep='\\n')\n",
    "    print('Type:', type(arr))\n",
    "    print('Shape:', arr.shape)\n",
    "    print('Size:', arr.size)\n",
    "    print('DType:', arr.dtype)\n",
    "    print('Length:', len(arr))\n",
    "    print('Dimension:', arr.ndim)"
   ]
  },
  {
   "cell_type": "code",
   "execution_count": 3,
   "metadata": {},
   "outputs": [
    {
     "name": "stdout",
     "output_type": "stream",
     "text": [
      "[ 3  8  2 67 45]\n",
      "<class 'numpy.ndarray'>\n",
      "(5,)\n",
      "5\n",
      "int32\n",
      "5\n"
     ]
    }
   ],
   "source": [
    "a=np.array([3,8,2,67,45])\n",
    "print(a)\n",
    "print(type(a))\n",
    "print(a.shape)\n",
    "print(a.size)\n",
    "print(a.dtype)\n",
    "print(len(a))"
   ]
  },
  {
   "cell_type": "code",
   "execution_count": 4,
   "metadata": {},
   "outputs": [
    {
     "name": "stdout",
     "output_type": "stream",
     "text": [
      "Array:\n",
      "[[10 11 18 14]\n",
      " [45 22  9  2]\n",
      " [ 6  5  1  8]]\n",
      "Type: <class 'numpy.ndarray'>\n",
      "Shape: (3, 4)\n",
      "Size: 12\n",
      "DType: int32\n",
      "Length: 3\n",
      "Dimension: 2\n"
     ]
    }
   ],
   "source": [
    "b=np.array([[10,11,18,14],[45,22,9,2],[6,5,1,8]])\n",
    "show_array(b)"
   ]
  },
  {
   "cell_type": "code",
   "execution_count": null,
   "metadata": {},
   "outputs": [],
   "source": [
    "# array operation \n",
    "#1. item accessing :subscripting ,slicing\n",
    "#2.item Assignment\n",
    "#3.item insertion \n",
    "#4.item deletion\n",
    "#5.arthmetic"
   ]
  },
  {
   "cell_type": "code",
   "execution_count": 23,
   "metadata": {},
   "outputs": [
    {
     "data": {
      "text/plain": [
       "array([[10, 11, 18, 14],\n",
       "       [45, 22,  9,  2],\n",
       "       [ 6,  5,  1,  8]])"
      ]
     },
     "execution_count": 23,
     "metadata": {},
     "output_type": "execute_result"
    }
   ],
   "source": [
    "b"
   ]
  },
  {
   "cell_type": "code",
   "execution_count": 27,
   "metadata": {},
   "outputs": [
    {
     "data": {
      "text/plain": [
       "(3, 4)"
      ]
     },
     "execution_count": 27,
     "metadata": {},
     "output_type": "execute_result"
    }
   ],
   "source": [
    "#b[0][0]\n",
    "#b[1][1:]\n",
    "#subsrcipting [1st,2nd,3rd,...,nth dim]\n",
    "#subsrcipting [1st:1st end:stepsize ,2nd,3rd,...,nth dim]\n",
    "b[0][0]\n",
    "b[1,-3:] \n",
    "b[:,-2]\n",
    "b[:,-2:-1]"
   ]
  },
  {
   "cell_type": "code",
   "execution_count": 8,
   "metadata": {},
   "outputs": [
    {
     "name": "stdout",
     "output_type": "stream",
     "text": [
      "[6 5 1 8]\n"
     ]
    },
    {
     "data": {
      "text/plain": [
       "(4,)"
      ]
     },
     "execution_count": 8,
     "metadata": {},
     "output_type": "execute_result"
    }
   ],
   "source": [
    "print(b[2][0:])\n",
    "b[2][0:].shape"
   ]
  },
  {
   "cell_type": "code",
   "execution_count": 5,
   "metadata": {},
   "outputs": [
    {
     "name": "stdout",
     "output_type": "stream",
     "text": [
      "Array:\n",
      "[[[ 10 100]\n",
      "  [ 11 110]\n",
      "  [ 13 130]\n",
      "  [ 14 140]]\n",
      "\n",
      " [[ 45 145]\n",
      "  [ 22 122]\n",
      "  [  9 190]\n",
      "  [  2  12]]\n",
      "\n",
      " [[  6  16]\n",
      "  [  5  15]\n",
      "  [  1  11]\n",
      "  [  8  18]]]\n",
      "Type: <class 'numpy.ndarray'>\n",
      "Shape: (3, 4, 2)\n",
      "Size: 24\n",
      "DType: int32\n",
      "Length: 3\n",
      "Dimension: 3\n"
     ]
    }
   ],
   "source": [
    "                # 100  110  130  140\n",
    "                # 145  122   19   12\n",
    "                # 16    15   11   18\n",
    "# 10  11  13  14\n",
    "# 45  22   9   2\n",
    "# 6    5   1   8\n",
    "c=np.array([[[10,100],[11,110],[13,130],[14,140]],\n",
    "            [[45,145],[22,122],[9,190],[2,12]],\n",
    "            [[6,16],[5,15],[1,11],[8,18]]])\n",
    "show_array(c)"
   ]
  },
  {
   "cell_type": "code",
   "execution_count": 56,
   "metadata": {},
   "outputs": [
    {
     "name": "stdout",
     "output_type": "stream",
     "text": [
      "[[[10]\n",
      "  [11]]]\n"
     ]
    }
   ],
   "source": [
    "print(c[:1,:2,:1])"
   ]
  },
  {
   "cell_type": "code",
   "execution_count": 57,
   "metadata": {},
   "outputs": [
    {
     "name": "stdout",
     "output_type": "stream",
     "text": [
      "[[[11]]\n",
      "\n",
      " [[22]]\n",
      "\n",
      " [[ 5]]]\n",
      "[[[2]]\n",
      "\n",
      " [[8]]]\n",
      "[[[13]\n",
      "  [14]]\n",
      "\n",
      " [[ 9]\n",
      "  [ 2]]]\n"
     ]
    }
   ],
   "source": [
    "print(c[:,1:2,:1])\n",
    "print(c[-2:,-1:,:1])\n",
    "print(c[:2,-2:,:1])"
   ]
  },
  {
   "cell_type": "code",
   "execution_count": 61,
   "metadata": {},
   "outputs": [
    {
     "data": {
      "text/plain": [
       "array([[10, 11, 30, 14],\n",
       "       [45, 44, 90,  2],\n",
       "       [ 6,  5,  1,  8]])"
      ]
     },
     "execution_count": 61,
     "metadata": {},
     "output_type": "execute_result"
    }
   ],
   "source": [
    "# item Assignment \n",
    "b[1,2]=90\n",
    "b[0,2]=30\n",
    "b[1,1]=44\n",
    "b"
   ]
  },
  {
   "cell_type": "code",
   "execution_count": 62,
   "metadata": {},
   "outputs": [
    {
     "data": {
      "text/plain": [
       "[2, 4, 5, 7, 9]"
      ]
     },
     "execution_count": 62,
     "metadata": {},
     "output_type": "execute_result"
    }
   ],
   "source": [
    "a=([2,4,5,7,9])\n",
    "a"
   ]
  },
  {
   "cell_type": "code",
   "execution_count": 63,
   "metadata": {},
   "outputs": [
    {
     "data": {
      "text/plain": [
       "array([ 2,  4,  5,  7,  9, 80])"
      ]
     },
     "execution_count": 63,
     "metadata": {},
     "output_type": "execute_result"
    }
   ],
   "source": [
    "# item insertion \n",
    "a=np.append(a,80)\n",
    "a"
   ]
  },
  {
   "cell_type": "code",
   "execution_count": 10,
   "metadata": {},
   "outputs": [
    {
     "data": {
      "text/plain": [
       "array([[10, 11, 18, 14],\n",
       "       [45, 22,  9,  2],\n",
       "       [ 6,  5,  1,  8],\n",
       "       [ 9, 90, 80, 70]])"
      ]
     },
     "execution_count": 10,
     "metadata": {},
     "output_type": "execute_result"
    }
   ],
   "source": [
    "np.append(b,[[9,90,80,70]],axis=0)  #axis = 0-> row , 1-> column \n"
   ]
  },
  {
   "cell_type": "code",
   "execution_count": 12,
   "metadata": {},
   "outputs": [
    {
     "data": {
      "text/plain": [
       "array([[10, 11, 18, 14,  9],\n",
       "       [45, 22,  9,  2, 90],\n",
       "       [ 6,  5,  1,  8, 80]])"
      ]
     },
     "execution_count": 12,
     "metadata": {},
     "output_type": "execute_result"
    }
   ],
   "source": [
    "np.append(b,[[9],[90],[80]],axis=1)"
   ]
  },
  {
   "cell_type": "code",
   "execution_count": 19,
   "metadata": {},
   "outputs": [
    {
     "data": {
      "text/plain": [
       "array([[10, 11, 18, 14],\n",
       "       [45, 22,  9,  2],\n",
       "       [ 6,  5,  1,  8]])"
      ]
     },
     "execution_count": 19,
     "metadata": {},
     "output_type": "execute_result"
    }
   ],
   "source": [
    "# Item Deletion\n",
    "# del a[-1]  # This won't work\n",
    "b1 = b.copy()\n",
    "b1"
   ]
  },
  {
   "cell_type": "code",
   "execution_count": 20,
   "metadata": {},
   "outputs": [
    {
     "data": {
      "text/plain": [
       "array([[45, 22,  9,  2],\n",
       "       [ 6,  5,  1,  8]])"
      ]
     },
     "execution_count": 20,
     "metadata": {},
     "output_type": "execute_result"
    }
   ],
   "source": [
    "np.delete(b1, 0, axis=0)"
   ]
  },
  {
   "cell_type": "code",
   "execution_count": 21,
   "metadata": {},
   "outputs": [
    {
     "data": {
      "text/plain": [
       "array([[-10,  -9,  -2,  -6],\n",
       "       [ 25,   2, -11, -18],\n",
       "       [-14, -15, -19, -12]])"
      ]
     },
     "execution_count": 21,
     "metadata": {},
     "output_type": "execute_result"
    }
   ],
   "source": [
    "# Arithmetic Operations\n",
    "b1 - 20"
   ]
  },
  {
   "cell_type": "code",
   "execution_count": 22,
   "metadata": {},
   "outputs": [
    {
     "data": {
      "text/plain": [
       "array([[30, 31, 38, 34],\n",
       "       [65, 42, 29, 22],\n",
       "       [26, 25, 21, 28]])"
      ]
     },
     "execution_count": 22,
     "metadata": {},
     "output_type": "execute_result"
    }
   ],
   "source": [
    "b1 + 20"
   ]
  },
  {
   "cell_type": "code",
   "execution_count": 23,
   "metadata": {},
   "outputs": [
    {
     "data": {
      "text/plain": [
       "array([[100, 110, 180, 140],\n",
       "       [450, 220,  90,  20],\n",
       "       [ 60,  50,  10,  80]])"
      ]
     },
     "execution_count": 23,
     "metadata": {},
     "output_type": "execute_result"
    }
   ],
   "source": [
    "b1 * 10"
   ]
  },
  {
   "cell_type": "code",
   "execution_count": 24,
   "metadata": {},
   "outputs": [
    {
     "data": {
      "text/plain": [
       "array([[1. , 1.1, 1.8, 1.4],\n",
       "       [4.5, 2.2, 0.9, 0.2],\n",
       "       [0.6, 0.5, 0.1, 0.8]])"
      ]
     },
     "execution_count": 24,
     "metadata": {},
     "output_type": "execute_result"
    }
   ],
   "source": [
    "b1 / 10"
   ]
  },
  {
   "cell_type": "code",
   "execution_count": 25,
   "metadata": {},
   "outputs": [],
   "source": [
    "# Array Manipulation\n",
    "#####################\n",
    "# arr.reshape(....)\n",
    "# arr.astype(...)\n",
    "\n",
    "# More functions to create array\n",
    "##################################\n",
    "## np.array()\n",
    "## np.arange()  -> array version of range func, also allows float\n",
    "## np.linspace() -> start, end, no. of items\n",
    "## np.ones() -> generate all values as '1'\n",
    "## np.zeros() -> generate all values as '0'\n",
    "## np.random.random()\n",
    "## np.random.randint()"
   ]
  },
  {
   "cell_type": "code",
   "execution_count": 26,
   "metadata": {},
   "outputs": [
    {
     "data": {
      "text/plain": [
       "array([[[10],\n",
       "        [11],\n",
       "        [18],\n",
       "        [14],\n",
       "        [45],\n",
       "        [22]],\n",
       "\n",
       "       [[ 9],\n",
       "        [ 2],\n",
       "        [ 6],\n",
       "        [ 5],\n",
       "        [ 1],\n",
       "        [ 8]]])"
      ]
     },
     "execution_count": 26,
     "metadata": {},
     "output_type": "execute_result"
    }
   ],
   "source": [
    "b1.reshape(2,6,1)"
   ]
  },
  {
   "cell_type": "code",
   "execution_count": 27,
   "metadata": {},
   "outputs": [
    {
     "data": {
      "text/plain": [
       "array([[10, 11, 18, 14, 45, 22],\n",
       "       [ 9,  2,  6,  5,  1,  8]])"
      ]
     },
     "execution_count": 27,
     "metadata": {},
     "output_type": "execute_result"
    }
   ],
   "source": [
    "b1.reshape(2,6)"
   ]
  },
  {
   "cell_type": "code",
   "execution_count": 28,
   "metadata": {},
   "outputs": [
    {
     "data": {
      "text/plain": [
       "array([[[[10]],\n",
       "\n",
       "        [[11]],\n",
       "\n",
       "        [[18]],\n",
       "\n",
       "        [[14]],\n",
       "\n",
       "        [[45]],\n",
       "\n",
       "        [[22]]],\n",
       "\n",
       "\n",
       "       [[[ 9]],\n",
       "\n",
       "        [[ 2]],\n",
       "\n",
       "        [[ 6]],\n",
       "\n",
       "        [[ 5]],\n",
       "\n",
       "        [[ 1]],\n",
       "\n",
       "        [[ 8]]]])"
      ]
     },
     "execution_count": 28,
     "metadata": {},
     "output_type": "execute_result"
    }
   ],
   "source": [
    "b1.reshape(2,6,1,1)"
   ]
  },
  {
   "cell_type": "code",
   "execution_count": null,
   "metadata": {},
   "outputs": [],
   "source": []
  }
 ],
 "metadata": {
  "kernelspec": {
   "display_name": "Python 3",
   "language": "python",
   "name": "python3"
  },
  "language_info": {
   "codemirror_mode": {
    "name": "ipython",
    "version": 3
   },
   "file_extension": ".py",
   "mimetype": "text/x-python",
   "name": "python",
   "nbconvert_exporter": "python",
   "pygments_lexer": "ipython3",
   "version": "3.9.12"
  },
  "orig_nbformat": 4
 },
 "nbformat": 4,
 "nbformat_minor": 2
}
