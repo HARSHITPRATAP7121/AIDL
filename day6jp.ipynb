{
 "cells": [
  {
   "cell_type": "code",
   "execution_count": 1,
   "metadata": {},
   "outputs": [
    {
     "data": {
      "text/plain": [
       "<__main__.Abc at 0x1d79dc49150>"
      ]
     },
     "execution_count": 1,
     "metadata": {},
     "output_type": "execute_result"
    }
   ],
   "source": [
    "# object oriented programming \n",
    "#class - template \n",
    "#object - instance \n",
    "\n",
    "class Abc:\n",
    "    pass\n",
    "\n",
    "x=Abc()\n",
    "x"
   ]
  },
  {
   "cell_type": "code",
   "execution_count": 10,
   "metadata": {},
   "outputs": [
    {
     "name": "stdout",
     "output_type": "stream",
     "text": [
      "<__main__.Abc object at 0x000001D79DECFDC0>\n",
      "10 20\n"
     ]
    }
   ],
   "source": [
    "class Abc():\n",
    "    a=10\n",
    "    b=20\n",
    "    def show(self): # self is a instance attribute \n",
    "        print(self.a,Abc .b) # Here Abc is class attribute \n",
    "\n",
    "x=Abc()\n",
    "print(x)\n",
    "x.show()\n"
   ]
  },
  {
   "cell_type": "code",
   "execution_count": 11,
   "metadata": {},
   "outputs": [
    {
     "data": {
      "text/plain": [
       "10"
      ]
     },
     "execution_count": 11,
     "metadata": {},
     "output_type": "execute_result"
    }
   ],
   "source": [
    "x.a"
   ]
  },
  {
   "cell_type": "code",
   "execution_count": 12,
   "metadata": {},
   "outputs": [],
   "source": [
    "y=Abc()\n",
    "z=Abc()"
   ]
  },
  {
   "cell_type": "code",
   "execution_count": 16,
   "metadata": {},
   "outputs": [
    {
     "name": "stdout",
     "output_type": "stream",
     "text": [
      "10 20\n"
     ]
    }
   ],
   "source": [
    "y.show()"
   ]
  },
  {
   "cell_type": "code",
   "execution_count": 17,
   "metadata": {},
   "outputs": [
    {
     "name": "stdout",
     "output_type": "stream",
     "text": [
      "10 20\n"
     ]
    }
   ],
   "source": [
    "z.show()"
   ]
  },
  {
   "cell_type": "code",
   "execution_count": 18,
   "metadata": {},
   "outputs": [],
   "source": [
    "x.a=40\n",
    "y.a=30\n",
    "Abc.b=100 # here we can change the value of 'a' because it is a instance attribute by different instance but not in case of 'b'\n"
   ]
  },
  {
   "cell_type": "code",
   "execution_count": 19,
   "metadata": {},
   "outputs": [
    {
     "name": "stdout",
     "output_type": "stream",
     "text": [
      "40 100\n",
      "30 100\n",
      "10 100\n"
     ]
    }
   ],
   "source": [
    "x.show()\n",
    "y.show()\n",
    "z.show()"
   ]
  },
  {
   "cell_type": "code",
   "execution_count": 34,
   "metadata": {},
   "outputs": [
    {
     "name": "stdout",
     "output_type": "stream",
     "text": [
      "10 20\n",
      "11 20\n",
      "15 20\n",
      "10 40\n",
      "11 40\n",
      "15 40\n",
      "10 40\n"
     ]
    }
   ],
   "source": [
    "class Abc(): # magical \n",
    "    def __init__(self,a=10,b=20):\n",
    "        self.a=a\n",
    "        Abc.b=b\n",
    "\n",
    "    def show(self):  \n",
    "        print(self.a,Abc .b)\n",
    "\n",
    "x=Abc()\n",
    "y=Abc(a=11)\n",
    "z=Abc(a=15)\n",
    "x.show();y.show();z.show()\n",
    "w=Abc(b=40)\n",
    "x.show();y.show();z.show();w.show()"
   ]
  },
  {
   "cell_type": "code",
   "execution_count": 45,
   "metadata": {},
   "outputs": [
    {
     "name": "stdout",
     "output_type": "stream",
     "text": [
      "hi\n"
     ]
    }
   ],
   "source": [
    "class mnc(): # magical \n",
    "    def __str__(self) -> str:\n",
    "        return \"hi\"   \n",
    "x=mnc()\n",
    "print(x)\n"
   ]
  },
  {
   "cell_type": "code",
   "execution_count": null,
   "metadata": {},
   "outputs": [],
   "source": []
  },
  {
   "cell_type": "code",
   "execution_count": 52,
   "metadata": {},
   "outputs": [
    {
     "name": "stdout",
     "output_type": "stream",
     "text": [
      "its simple\n"
     ]
    },
    {
     "ename": "AttributeError",
     "evalue": "'Pqr' object has no attribute 'show'",
     "output_type": "error",
     "traceback": [
      "\u001b[1;31m---------------------------------------------------------------------------\u001b[0m",
      "\u001b[1;31mAttributeError\u001b[0m                            Traceback (most recent call last)",
      "Cell \u001b[1;32mIn[52], line 7\u001b[0m\n\u001b[0;32m      5\u001b[0m p\u001b[39m=\u001b[39mPqr()\n\u001b[0;32m      6\u001b[0m p\u001b[39m.\u001b[39msimple()\n\u001b[1;32m----> 7\u001b[0m p\u001b[39m.\u001b[39;49mshow()\n\u001b[0;32m      8\u001b[0m p()\n",
      "\u001b[1;31mAttributeError\u001b[0m: 'Pqr' object has no attribute 'show'"
     ]
    }
   ],
   "source": [
    "# inheritence \n",
    "class Pqr(Abc):\n",
    "    def simple(self):\n",
    "        print(\"its simple\")\n",
    "p=Pqr()\n",
    "p.simple()\n",
    "p.show()\n",
    "p()"
   ]
  },
  {
   "cell_type": "code",
   "execution_count": null,
   "metadata": {},
   "outputs": [],
   "source": []
  },
  {
   "cell_type": "code",
   "execution_count": null,
   "metadata": {},
   "outputs": [],
   "source": [
    "# Gui Development #\n"
   ]
  }
 ],
 "metadata": {
  "language_info": {
   "name": "python"
  },
  "orig_nbformat": 4
 },
 "nbformat": 4,
 "nbformat_minor": 2
}
