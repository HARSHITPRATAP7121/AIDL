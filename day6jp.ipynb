{
 "cells": [
  {
   "cell_type": "code",
   "execution_count": 1,
   "metadata": {},
   "outputs": [
    {
     "data": {
      "text/plain": [
       "range(0, 10)"
      ]
     },
     "execution_count": 1,
     "metadata": {},
     "output_type": "execute_result"
    }
   ],
   "source": [
    "range(10)"
   ]
  },
  {
   "cell_type": "code",
   "execution_count": 2,
   "metadata": {},
   "outputs": [
    {
     "data": {
      "text/plain": [
       "[0, 1, 2, 3, 4, 5, 6, 7, 8, 9]"
      ]
     },
     "execution_count": 2,
     "metadata": {},
     "output_type": "execute_result"
    }
   ],
   "source": [
    "list(range(10))"
   ]
  },
  {
   "cell_type": "code",
   "execution_count": 7,
   "metadata": {},
   "outputs": [],
   "source": [
    "\n"
   ]
  },
  {
   "cell_type": "code",
   "execution_count": 9,
   "metadata": {},
   "outputs": [
    {
     "name": "stdout",
     "output_type": "stream",
     "text": [
      "0\n",
      "1\n",
      "2\n",
      "3\n",
      "4\n",
      "5\n",
      "6\n",
      "7\n",
      "8\n",
      "9\n"
     ]
    }
   ],
   "source": [
    "for i in range(10):\n",
    "    print(i)"
   ]
  },
  {
   "cell_type": "code",
   "execution_count": 14,
   "metadata": {},
   "outputs": [
    {
     "name": "stdout",
     "output_type": "stream",
     "text": [
      "[8, 12, 16, 18]\n"
     ]
    }
   ],
   "source": [
    "# genrator \n",
    "a=[4,6,8,9]\n",
    "def makegen(data):\n",
    "    for i in data:\n",
    "        yield i \n",
    "       \n",
    "        # The yield statement produces a generator object and can return multiple values to the caller without terminating the program\n",
    "\n",
    "b= []\n",
    "for i in makegen(a):\n",
    "    b.append(i*2)\n",
    "print(b)\n",
    "\n",
    "# map , zip and filter are the genrator func"
   ]
  },
  {
   "cell_type": "code",
   "execution_count": 24,
   "metadata": {},
   "outputs": [
    {
     "name": "stdout",
     "output_type": "stream",
     "text": [
      "[8, 12, 16, 18]\n",
      "[2.0, 3.0, 4.0, 18]\n"
     ]
    }
   ],
   "source": [
    "# map the genrator function \n",
    "a\n",
    "b1= map (lambda x:x*2,a)\n",
    "b2= map(lambda x:x*2 if x%2 else x/2 ,a)\n",
    "print(list(b1))\n",
    "print(list(b2))"
   ]
  },
  {
   "cell_type": "code",
   "execution_count": 18,
   "metadata": {},
   "outputs": [],
   "source": [
    "# map defination\n",
    "def my_map(func,data):\n",
    "    for d in data:\n",
    "        yield func(d)\n"
   ]
  },
  {
   "cell_type": "code",
   "execution_count": null,
   "metadata": {},
   "outputs": [],
   "source": []
  },
  {
   "cell_type": "code",
   "execution_count": 20,
   "metadata": {},
   "outputs": [],
   "source": [
    "# filter defination \n",
    "def my_filter(func,data):\n",
    "    for d in data:\n",
    "        if func(d):\n",
    "            yield func(d)"
   ]
  },
  {
   "cell_type": "code",
   "execution_count": 23,
   "metadata": {},
   "outputs": [
    {
     "name": "stdout",
     "output_type": "stream",
     "text": [
      "(34, 4, 5, 6, 7, 8, 9, 2, 1)\n",
      "[5, 7, 9, 1]\n",
      "[5, 7, 9, 1]\n"
     ]
    }
   ],
   "source": [
    "p=(34,4,5,6,7,8,9,2,1)\n",
    "p1=[i for i in p if i%2]\n",
    "p2=filter(lambda x:x%2==1,p)\n",
    "print(p)\n",
    "print(p1)\n",
    "print(list(p2))"
   ]
  },
  {
   "cell_type": "code",
   "execution_count": 21,
   "metadata": {},
   "outputs": [
    {
     "name": "stdout",
     "output_type": "stream",
     "text": [
      "[3, 6, 8, 9, 9, 4, 6, 2]\n",
      "[(3, 9), (6, 4), (8, 6), (9, 2)]\n"
     ]
    }
   ],
   "source": [
    "# zip \n",
    "x=[3,6,8,9]\n",
    "y=[9,4,6,2]\n",
    "print(x+y)\n",
    "print(list(zip(x,y)))"
   ]
  },
  {
   "cell_type": "code",
   "execution_count": null,
   "metadata": {},
   "outputs": [],
   "source": []
  }
 ],
 "metadata": {
  "kernelspec": {
   "display_name": "Python 3",
   "language": "python",
   "name": "python3"
  },
  "language_info": {
   "codemirror_mode": {
    "name": "ipython",
    "version": 3
   },
   "file_extension": ".py",
   "mimetype": "text/x-python",
   "name": "python",
   "nbconvert_exporter": "python",
   "pygments_lexer": "ipython3",
   "version": "3.10.0"
  },
  "orig_nbformat": 4
 },
 "nbformat": 4,
 "nbformat_minor": 2
}
